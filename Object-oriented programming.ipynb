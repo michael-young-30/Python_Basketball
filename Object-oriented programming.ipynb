{
 "cells": [
  {
   "cell_type": "code",
   "execution_count": 3,
   "metadata": {},
   "outputs": [],
   "source": [
    "class Player:\n",
    "    sport = 'Basketball'\n",
    "    league = 'NBA'\n",
    "    def _init_(self,name,pos,fgm,fga):\n",
    "        self.name = name\n",
    "        self.pos = pos\n",
    "        self.fgm = fgm\n",
    "        self.fga = fga\n",
    "        \n",
    "    def fg_percent(self):\n",
    "        return self.fgm/self.fga"
   ]
  },
  {
   "cell_type": "code",
   "execution_count": 51,
   "metadata": {},
   "outputs": [],
   "source": [
    "class Player:\n",
    "\n",
    "    def __init__(self, name, pos, fgm, fga, threes_m, threes_a):\n",
    "        self.name = name\n",
    "        self.pos = pos\n",
    "        self.fgm = fgm\n",
    "        self.fga = fga\n",
    "        self.threes_m = threes_m\n",
    "        self.threes_a = threes_a\n",
    "\n",
    "    def fg_percent(self):\n",
    "        return self.fgm / self.fga\n",
    "    \n",
    "    def threes_percent(self):\n",
    "        return self.threes_m / self.threes_a\n"
   ]
  },
  {
   "cell_type": "code",
   "execution_count": 54,
   "metadata": {},
   "outputs": [
    {
     "name": "stdout",
     "output_type": "stream",
     "text": [
      "Steph Curry\n",
      "44.5\n",
      "0.38\n"
     ]
    }
   ],
   "source": [
    "curry = Player('Steph Curry', 'PG', 545,1224, 285,750)\n",
    "\n",
    "print(curry.name)\n",
    "print((round(curry.fg_percent(),3))*100)\n",
    "print(curry.threes_percent())"
   ]
  },
  {
   "cell_type": "code",
   "execution_count": 62,
   "metadata": {},
   "outputs": [],
   "source": [
    "string = 'Kevin Love makes 20-foot jumper (Darius Garland assists)'\n"
   ]
  },
  {
   "cell_type": "code",
   "execution_count": 70,
   "metadata": {},
   "outputs": [
    {
     "name": "stdout",
     "output_type": "stream",
     "text": [
      " Michael Young makes a 20-foot jumper\n"
     ]
    }
   ],
   "source": [
    "first_name = 'Michael'\n",
    "last_name = 'Young'\n",
    "\n",
    "print(f' {first_name} {last_name} makes a 20-foot jumper')"
   ]
  },
  {
   "cell_type": "code",
   "execution_count": null,
   "metadata": {},
   "outputs": [],
   "source": []
  }
 ],
 "metadata": {
  "kernelspec": {
   "display_name": "Python 3",
   "language": "python",
   "name": "python3"
  },
  "language_info": {
   "codemirror_mode": {
    "name": "ipython",
    "version": 3
   },
   "file_extension": ".py",
   "mimetype": "text/x-python",
   "name": "python",
   "nbconvert_exporter": "python",
   "pygments_lexer": "ipython3",
   "version": "3.8.3"
  }
 },
 "nbformat": 4,
 "nbformat_minor": 4
}
