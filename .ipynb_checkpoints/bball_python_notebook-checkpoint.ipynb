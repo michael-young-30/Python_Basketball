{
 "cells": [
  {
   "cell_type": "code",
   "execution_count": 1,
   "metadata": {},
   "outputs": [],
   "source": [
    "players = [{\n",
    "   'name': 'Jayson Tatum',\n",
    "   'field goals': 708,\n",
    "   'field goals attempted': 1564\n",
    "   },\n",
    "   {\n",
    "   'name': 'Devin Booker',\n",
    "   'field goals': 662,\n",
    "   'field goals attempted': 1421\n",
    "   },\n",
    "   {\n",
    "   'name': 'Stephen Curry',\n",
    "   'field goals': 535,\n",
    "   'field goals attempted': 1224\n",
    "   },\n",
    "]"
   ]
  },
  {
   "cell_type": "code",
   "execution_count": 2,
   "metadata": {},
   "outputs": [],
   "source": [
    "player = {\n",
    "   'name': 'Jayson Tatum',\n",
    "   'field goals': 708,\n",
    "   'field goals attempted': 1564\n",
    "   }"
   ]
  },
  {
   "cell_type": "code",
   "execution_count": 3,
   "metadata": {},
   "outputs": [
    {
     "data": {
      "text/plain": [
       "535"
      ]
     },
     "execution_count": 3,
     "metadata": {},
     "output_type": "execute_result"
    }
   ],
   "source": [
    "players[2]['field goals']"
   ]
  },
  {
   "cell_type": "code",
   "execution_count": 4,
   "metadata": {},
   "outputs": [
    {
     "name": "stdout",
     "output_type": "stream",
     "text": [
      "Jayson Tatum shoots 45.3% from the field\n",
      "Devin Booker shoots 46.6% from the field\n",
      "Stephen Curry shoots 43.7% from the field\n"
     ]
    }
   ],
   "source": [
    "for player in players:\n",
    "    name = player['name']\n",
    "    fg = player['field goals']\n",
    "    fga = player['field goals attempted']\n",
    "    shooting_percentage = (round(fg/fga,3))*100\n",
    "    rounded_shooting = (round(shooting_percentage, 3))\n",
    "    print(name + ' ' + 'shoots' + ' ' + str(rounded_shooting) + '%'+ ' '  + 'from the field')"
   ]
  },
  {
   "cell_type": "code",
   "execution_count": 5,
   "metadata": {},
   "outputs": [
    {
     "data": {
      "text/plain": [
       "43.7"
      ]
     },
     "execution_count": 5,
     "metadata": {},
     "output_type": "execute_result"
    }
   ],
   "source": [
    "(round(players [2]['field goals']/ players[2]['field goals attempted'],3))*100"
   ]
  },
  {
   "cell_type": "code",
   "execution_count": 6,
   "metadata": {},
   "outputs": [],
   "source": [
    "def get_shooting_percent(player):\n",
    "    if type(player) is not dict:\n",
    "        print('You need to pass in a dictionary!')\n",
    "        return\n",
    "    else:\n",
    "        pass\n",
    "    fg = player['field goals']\n",
    "    fga = player['field goals attempted']\n",
    "    \n",
    "    if fg>fga:\n",
    "        print ('You cannot have more shots made than attempted')\n",
    "        \n",
    "    else: \n",
    "        pass\n",
    "    \n",
    "    shooting_percent = fg/fga\n",
    "    \n",
    "    return shooting_percent\n"
   ]
  },
  {
   "cell_type": "code",
   "execution_count": 7,
   "metadata": {},
   "outputs": [
    {
     "name": "stdout",
     "output_type": "stream",
     "text": [
      "535\n",
      "0.45268542199488493\n"
     ]
    }
   ],
   "source": [
    "Curry = players[2]\n",
    "print(Curry ['field goals'])\n",
    "\n",
    "print(get_shooting_percent(players[0]))"
   ]
  },
  {
   "cell_type": "code",
   "execution_count": 8,
   "metadata": {},
   "outputs": [
    {
     "name": "stdout",
     "output_type": "stream",
     "text": [
      "Steph is shooting 0.43709150326797386\n"
     ]
    }
   ],
   "source": [
    "Steph_shot_percent = get_shooting_percent(Curry)\n",
    "\n",
    "print('Steph is shooting'+ ' ' + str(Steph_shot_percent))"
   ]
  },
  {
   "cell_type": "code",
   "execution_count": 9,
   "metadata": {},
   "outputs": [
    {
     "name": "stdout",
     "output_type": "stream",
     "text": [
      "Jayson Tatum shoots 45.300000000000004% from the field\n",
      "Devin Booker shoots 46.6% from the field\n",
      "Stephen Curry shoots 43.7% from the field\n"
     ]
    }
   ],
   "source": [
    "for player in players:\n",
    "    name = player['name']\n",
    "    shot_percent = round(get_shooting_percent(player), 3) *100\n",
    "    print(name + ' ' + 'shoots' + ' ' + str(shot_percent) + '%'+ ' '  + 'from the field')"
   ]
  },
  {
   "cell_type": "code",
   "execution_count": null,
   "metadata": {},
   "outputs": [],
   "source": []
  }
 ],
 "metadata": {
  "kernelspec": {
   "display_name": "Python 3",
   "language": "python",
   "name": "python3"
  },
  "language_info": {
   "codemirror_mode": {
    "name": "ipython",
    "version": 3
   },
   "file_extension": ".py",
   "mimetype": "text/x-python",
   "name": "python",
   "nbconvert_exporter": "python",
   "pygments_lexer": "ipython3",
   "version": "3.8.3"
  }
 },
 "nbformat": 4,
 "nbformat_minor": 4
}
